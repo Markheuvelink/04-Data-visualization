{
 "cells": [
  {
   "cell_type": "markdown",
   "metadata": {},
   "source": []
  },
  {
   "cell_type": "code",
   "execution_count": null,
   "metadata": {},
   "outputs": [
    {
     "name": "stdout",
     "output_type": "stream",
     "text": [
      "0.2\n",
      "0.4\n",
      "30.0\n"
     ]
    }
   ],
   "source": [
    "#Bayes theorem: exercise applications (2)\n",
    " \n",
    "#P(variables)\n",
    "Master = 60/300\n",
    "Female = ((0.5*60)+(0.4*90)+(0.36*150))/300\n",
    "Female_Master = 60*0.5\n",
    "\n",
    "\n",
    "print(Master)\n",
    "print(Female)\n",
    "print(Female_Master)"
   ]
  },
  {
   "cell_type": "markdown",
   "metadata": {},
   "source": [
    "Excercise 2 REMEMBER THE ANSWERS ARE NOT RIGHT"
   ]
  },
  {
   "cell_type": "code",
   "execution_count": null,
   "metadata": {},
   "outputs": [
    {
     "name": "stdout",
     "output_type": "stream",
     "text": [
      "0.016222000122070295\n",
      "0.2050781249999999\n"
     ]
    }
   ],
   "source": [
    "from scipy.stats import binom\n",
    "\n",
    "#Not right\n",
    "\n",
    "# Whatis the probability of 6 hearts when picking 10 times?\n",
    "Less_Hearts = binom.pmf(k=6, n=10, p=0.25)\n",
    "print(Less_Hearts) \n",
    "# What is the probability of 6 or more hearts when picking 10 times?\n",
    "More_Hearts = binom.pmf(k=6, n=10, p=0.5)\n",
    "print(More_Hearts)\n"
   ]
  },
  {
   "cell_type": "markdown",
   "metadata": {},
   "source": [
    "EXERCISE PLAUSIBILITY IN-CLASS EXPERIMENT (2)"
   ]
  },
  {
   "cell_type": "code",
   "execution_count": 15,
   "metadata": {},
   "outputs": [
    {
     "ename": "SyntaxError",
     "evalue": "expected argument value expression (2911576331.py, line 3)",
     "output_type": "error",
     "traceback": [
      "\u001b[1;36m  Cell \u001b[1;32mIn[15], line 3\u001b[1;36m\u001b[0m\n\u001b[1;33m    beta.caf(x= ,a=,b=)\u001b[0m\n\u001b[1;37m             ^\u001b[0m\n\u001b[1;31mSyntaxError\u001b[0m\u001b[1;31m:\u001b[0m expected argument value expression\n"
     ]
    }
   ],
   "source": [
    "from scipy.stats import beta\n",
    "\n",
    "beta.caf(x= ,a=,b=)"
   ]
  },
  {
   "cell_type": "markdown",
   "metadata": {},
   "source": [
    "EXERCISECONVERSION RATES"
   ]
  },
  {
   "cell_type": "code",
   "execution_count": 57,
   "metadata": {},
   "outputs": [
    {
     "data": {
      "text/plain": [
       "0.08576069975324163"
      ]
     },
     "execution_count": 57,
     "metadata": {},
     "output_type": "execute_result"
    }
   ],
   "source": [
    "from scipy.stats import binom\n",
    "\n",
    "#cumulative distribution function conversion rate part A\n",
    "1 - binom.cdf(k=37, n=1000, p=0.03)\n",
    "# Let op de 1- want je wilt berekenen aan de andere kant. Dus dat het vaker voorkomt\n",
    "# Je kiest 37 niet 38 want je wilt 38 ook meenemen"
   ]
  },
  {
   "cell_type": "code",
   "execution_count": null,
   "metadata": {},
   "outputs": [
    {
     "data": {
      "text/plain": [
       "0.04072189871828058"
      ]
     },
     "execution_count": 56,
     "metadata": {},
     "output_type": "execute_result"
    }
   ],
   "source": [
    "#cumulative distribution function conversion rate part B\n",
    "1 - beta.cdf(x=0.04, a=30, b=970)\n",
    "\n",
    "#4% voor probality, 1000*0.03=30 dus 970 blijft over\n",
    "#dit moet je goed uitleggen in je keuzen, nu is er gekozen voor deze verhouding want je 0.03 komt meest voor\n",
    "# Let op de 1- want je wilt berekenen aan de andere kant. Dus dat het vaker voorkomt\n",
    "\n",
    "# antwoorden docent geeft andere opties, want op die methode heb je al meer informatie. Hierdoor kan je dingen optellen"
   ]
  }
 ],
 "metadata": {
  "kernelspec": {
   "display_name": "Python 3",
   "language": "python",
   "name": "python3"
  },
  "language_info": {
   "codemirror_mode": {
    "name": "ipython",
    "version": 3
   },
   "file_extension": ".py",
   "mimetype": "text/x-python",
   "name": "python",
   "nbconvert_exporter": "python",
   "pygments_lexer": "ipython3",
   "version": "3.12.9"
  }
 },
 "nbformat": 4,
 "nbformat_minor": 2
}
