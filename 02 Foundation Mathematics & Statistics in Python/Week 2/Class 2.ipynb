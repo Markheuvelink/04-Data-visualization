{
 "cells": [
  {
   "cell_type": "markdown",
   "metadata": {},
   "source": [
    "# **Class 2**\n",
    "### **In class examples**\n"
   ]
  },
  {
   "cell_type": "code",
   "execution_count": 3,
   "metadata": {},
   "outputs": [
    {
     "name": "stdout",
     "output_type": "stream",
     "text": [
      "The derivative of the function is: 2*x\n",
      "Thevalue of the derivative at x = 2 is: 4.\n"
     ]
    }
   ],
   "source": [
    "from sympy import symbols, diff, solve\n",
    "x = symbols('x')   # declare the variable\n",
    "f = x**2           # define the function\n",
    "dx_f= diff(f)     # compute and print the derivative\n",
    "print('The derivative of the function is:', dx_f) # result = 2*x\n",
    "\n",
    "# Use subs() to replace x by the value 2 in derivative function dx_f\n",
    "dx_f_2 = dx_f.subs(x, 2)\n",
    "print(f'Thevalue of the derivative at x = 2 is: {dx_f_2}.') \n"
   ]
  },
  {
   "cell_type": "code",
   "execution_count": null,
   "metadata": {},
   "outputs": [],
   "source": [
    "# What is the maximum value of the function?\n",
    "x_values_maxima= solve(dx_f, x) # they use values because some could have muliple answers. like those wave ones. that go up and down\n",
    "print(\"The derivative is zero at the following x-values:\", x_values_maxima)\n",
    "\n",
    "y_values_maxima= [f.subs(x, points) forpoints inx_values_maxima]\n",
    "print(\"The y-values of these x-values are:\", y_values_maxima)\n"
   ]
  },
  {
   "cell_type": "markdown",
   "metadata": {},
   "source": [
    "### **Exercise 1** ACCELERATION OF GROWTH–EXERCISERUNNER ENERGY CONSUMPTION(2)\n",
    "\n"
   ]
  },
  {
   "cell_type": "markdown",
   "metadata": {},
   "source": [
    "**Zelf gemaakt**"
   ]
  },
  {
   "cell_type": "code",
   "execution_count": null,
   "metadata": {},
   "outputs": [],
   "source": [
    "from sympy import symbols, diff, solve\n",
    "x = symbols('x')   # declare the variable\n",
    "f = 5*x+(0.2*(x**3))           # define the function\n",
    "dx_f= diff(f)     # compute and print the derivative\n",
    "print('The derivative of the function is:', dx_f) # result = 5*x\n",
    "\n",
    "# Use subs() to replace x by the value 5 in derivative function dx_f\n",
    "dx_f_2 = dx_f.subs(x, 5)\n",
    "print(f'Thevalue of the derivative at x = 2 is: {dx_f_2}.') \n"
   ]
  },
  {
   "cell_type": "code",
   "execution_count": null,
   "metadata": {},
   "outputs": [],
   "source": [
    "import matplotlib.pyplot as plt\n",
    "import numpy as np\n",
    "\n",
    "\n",
    "x = symbols('x')\n",
    "x = np.linspace(0, 10, 250)\n",
    "\n",
    "y1= 5*x+(0.2*(x**3))\n",
    "y2= 5*x\n",
    "y3= 0.2*(x**3)\n",
    "\n",
    "\n",
    "# Plot the function\n",
    "plt.figure(figsize=(10, 6))\n",
    "plt.plot(x,y1,y2,y3)   # Giving a label that appears in the legend (if printed)\n",
    "plt.title('Energy consumption') #Title of the plot\n",
    "plt.xlabel(\"Minutes\")                            # Name of the x-axis\n",
    "plt.ylabel(\"Calories\")                        # Name of the y-axis\n",
    "plt.xlim([0,10])                                     # Range of x-axis\n",
    "plt.ylim([0,250])                                    # Range of y-axis\n",
    "plt.grid(True)                                      # Plotting gridlines\n",
    "plt.legend(loc='upper left')                        # Plot the legend in the upper left corner\n",
    "plt.show()"
   ]
  },
  {
   "cell_type": "markdown",
   "metadata": {},
   "source": [
    "**Gekregen**"
   ]
  },
  {
   "cell_type": "code",
   "execution_count": null,
   "metadata": {},
   "outputs": [
    {
     "name": "stdout",
     "output_type": "stream",
     "text": [
      "Total demand over one week: 315.0 units\n"
     ]
    }
   ],
   "source": [
    "import numpy as np\n",
    "from scipy.integrate import quad\n",
    " \n",
    "# gekregen voor interval\n",
    "\n",
    "def daily_demand(t) :\n",
    "    return 45 + 20 *np.sin((2*np.pi/7)*t)\n",
    " \n",
    "integral, error = quad(daily_demand,0,30)\n",
    " \n",
    "print(f'Total demand over one week: {integral} units')"
   ]
  }
 ],
 "metadata": {
  "kernelspec": {
   "display_name": "Python 3",
   "language": "python",
   "name": "python3"
  },
  "language_info": {
   "codemirror_mode": {
    "name": "ipython",
    "version": 3
   },
   "file_extension": ".py",
   "mimetype": "text/x-python",
   "name": "python",
   "nbconvert_exporter": "python",
   "pygments_lexer": "ipython3",
   "version": "3.12.9"
  }
 },
 "nbformat": 4,
 "nbformat_minor": 2
}
